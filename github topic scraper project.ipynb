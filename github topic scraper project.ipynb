{
 "cells": [
  {
   "cell_type": "code",
   "execution_count": 1,
   "id": "beb2cff3-9da7-4c50-95a5-03b5f412d213",
   "metadata": {},
   "outputs": [],
   "source": [
    "import requests"
   ]
  },
  {
   "cell_type": "code",
   "execution_count": 2,
   "id": "8dfa9bb5-a747-4303-9eea-6e4f2f3cf0bf",
   "metadata": {},
   "outputs": [],
   "source": [
    "topics_url=(\"https://github.com/topics\")"
   ]
  },
  {
   "cell_type": "code",
   "execution_count": 3,
   "id": "9a46fcb5-dce2-45f4-b443-91b9456df54d",
   "metadata": {},
   "outputs": [],
   "source": [
    "response=requests.get(topics_url)"
   ]
  },
  {
   "cell_type": "code",
   "execution_count": 4,
   "id": "73a86978-a281-479b-92e0-31c09a6f00cd",
   "metadata": {},
   "outputs": [
    {
     "data": {
      "text/plain": [
       "200"
      ]
     },
     "execution_count": 4,
     "metadata": {},
     "output_type": "execute_result"
    }
   ],
   "source": [
    "response.status_code   # it checks whether the resquest is working"
   ]
  },
  {
   "cell_type": "code",
   "execution_count": 5,
   "id": "6c41aa37-4718-4e4b-8f9b-5fd8885cc7b5",
   "metadata": {},
   "outputs": [
    {
     "data": {
      "text/plain": [
       "206122"
      ]
     },
     "execution_count": 5,
     "metadata": {},
     "output_type": "execute_result"
    }
   ],
   "source": [
    "len(response.text)"
   ]
  },
  {
   "cell_type": "code",
   "execution_count": 6,
   "id": "0b6cfd2b-cec1-43af-a66d-c017a2dfcf69",
   "metadata": {},
   "outputs": [],
   "source": [
    "pagecontents=response.text"
   ]
  },
  {
   "cell_type": "code",
   "execution_count": 7,
   "id": "23aeb015-66f0-4dbf-827e-350116e7b6c3",
   "metadata": {},
   "outputs": [
    {
     "data": {
      "text/plain": [
       "'\\n\\n<!DOCTYPE html>\\n<html\\n  lang=\"en\"\\n  \\n  data-color-mode=\"auto\" data-light-theme=\"light\" data-dark-theme=\"dark\"\\n  data-a11y-animated-images=\"system\" data-a11y-link-underlines=\"true\"\\n  \\n  >\\n\\n\\n\\n  <head>\\n    <meta charset=\"utf-8\">\\n  <link rel=\"dns-prefetch\" href=\"https://github.githubassets.com\">\\n  <link rel=\"dns-prefetch\" href=\"https://avatars.githubusercontent.com\">\\n  <link rel=\"dns-prefetch\" href=\"https://github-cloud.s3.amazonaws.com\">\\n  <link rel=\"dns-prefetch\" href=\"https://user-images.githubusercontent.com/\">\\n  <link rel=\"preconnect\" href=\"https://github.githubassets.com\" crossorigin>\\n  <link rel=\"preconnect\" href=\"https://avatars.githubusercontent.com\">\\n\\n  \\n\\n  <link crossorigin=\"anonymous\" media=\"all\" rel=\"stylesheet\" href=\"https://github.githubassets.com/assets/light-3e154969b9f9.css\" /><link crossorigin=\"anonymous\" media=\"all\" rel=\"stylesheet\" href=\"https://github.githubassets.com/assets/dark-9c5b7a476542.css\" /><link data-color-theme=\"dark_dimmed\" crossorigin=\"anonymous\" media='"
      ]
     },
     "execution_count": 7,
     "metadata": {},
     "output_type": "execute_result"
    }
   ],
   "source": [
    "pagecontents[:1000]"
   ]
  },
  {
   "cell_type": "code",
   "execution_count": 8,
   "id": "eca57d3e-fc82-478b-a62a-b3ecd69b5f56",
   "metadata": {},
   "outputs": [],
   "source": [
    "#with open('webpage.html','w') as f:\n",
    "    #f.write(pagecontents.encode(\"utf-8\"))"
   ]
  },
  {
   "cell_type": "code",
   "execution_count": 9,
   "id": "71cbe561-8f3c-4062-8a3d-b6c3da78188f",
   "metadata": {},
   "outputs": [],
   "source": [
    "## use beautifulsoup to parse and extract information"
   ]
  },
  {
   "cell_type": "code",
   "execution_count": 10,
   "id": "7e91908f-b696-48e9-a209-c8cbff4fe86a",
   "metadata": {},
   "outputs": [],
   "source": [
    "from bs4 import BeautifulSoup"
   ]
  },
  {
   "cell_type": "code",
   "execution_count": 11,
   "id": "3025b0b8-da21-40ee-8cc3-e5f7535473d1",
   "metadata": {},
   "outputs": [],
   "source": [
    "soup=BeautifulSoup(pagecontents,'html.parser')"
   ]
  },
  {
   "cell_type": "code",
   "execution_count": 12,
   "id": "7cd1670c-01ae-4a0e-a053-a13c308b153c",
   "metadata": {},
   "outputs": [
    {
     "data": {
      "text/plain": [
       "[<p>We read every piece of feedback, and take your input very seriously.</p>,\n",
       " <p class=\"text-small color-fg-muted\">\n",
       "             To see all available qualifiers, see our <a class=\"Link--inTextBlock\" href=\"https://docs.github.com/search-github/github-code-search/understanding-github-code-search-syntax\">documentation</a>.\n",
       "           </p>,\n",
       " <p class=\"f4 color-fg-muted col-md-6 mx-auto\">Browse popular topics on GitHub.</p>,\n",
       " <p class=\"f3 lh-condensed text-center Link--primary mb-0 mt-1\">\n",
       "         R\n",
       "       </p>,\n",
       " <p class=\"f5 color-fg-muted text-center mb-0 mt-1\">R is a free programming language and software environment for statistical computing and graphics.</p>,\n",
       " <p class=\"f3 lh-condensed text-center Link--primary mb-0 mt-1\">\n",
       "         The Julia Language\n",
       "       </p>,\n",
       " <p class=\"f5 color-fg-muted text-center mb-0 mt-1\">Julia is a high-level, high-performance dynamic programming language for numerical computing.</p>,\n",
       " <p class=\"f3 lh-condensed text-center Link--primary mb-0 mt-1\">\n",
       "         Koa\n",
       "       </p>,\n",
       " <p class=\"f5 color-fg-muted text-center mb-0 mt-1\">Koa is an expressive middleware framework for Node.js servers that uses ES2017 async functions.</p>,\n",
       " <p class=\"f3 lh-condensed mb-0 mt-1 Link--primary\">3D</p>,\n",
       " <p class=\"f5 color-fg-muted mb-0 mt-1\">\n",
       "           3D refers to the use of three-dimensional graphics, modeling, and animation in various industries.\n",
       "         </p>,\n",
       " <p class=\"f3 lh-condensed mb-0 mt-1 Link--primary\">Ajax</p>,\n",
       " <p class=\"f5 color-fg-muted mb-0 mt-1\">\n",
       "           Ajax is a technique for creating interactive web applications.\n",
       "         </p>,\n",
       " <p class=\"f3 lh-condensed mb-0 mt-1 Link--primary\">Algorithm</p>,\n",
       " <p class=\"f5 color-fg-muted mb-0 mt-1\">\n",
       "           Algorithms are self-contained sequences that carry out a variety of tasks.\n",
       "         </p>,\n",
       " <p class=\"f3 lh-condensed mb-0 mt-1 Link--primary\">Amp</p>,\n",
       " <p class=\"f5 color-fg-muted mb-0 mt-1\">\n",
       "           Amp is a non-blocking concurrency library for PHP.\n",
       "         </p>,\n",
       " <p class=\"f3 lh-condensed mb-0 mt-1 Link--primary\">Android</p>,\n",
       " <p class=\"f5 color-fg-muted mb-0 mt-1\">\n",
       "           Android is an operating system built by Google designed for mobile devices.\n",
       "         </p>,\n",
       " <p class=\"f3 lh-condensed mb-0 mt-1 Link--primary\">Angular</p>,\n",
       " <p class=\"f5 color-fg-muted mb-0 mt-1\">\n",
       "           Angular is an open source web application platform.\n",
       "         </p>,\n",
       " <p class=\"f3 lh-condensed mb-0 mt-1 Link--primary\">Ansible</p>,\n",
       " <p class=\"f5 color-fg-muted mb-0 mt-1\">\n",
       "           Ansible is a simple and powerful automation engine.\n",
       "         </p>,\n",
       " <p class=\"f3 lh-condensed mb-0 mt-1 Link--primary\">API</p>,\n",
       " <p class=\"f5 color-fg-muted mb-0 mt-1\">\n",
       "           An API (Application Programming Interface) is a collection of protocols and subroutines for building software.\n",
       "         </p>,\n",
       " <p class=\"f3 lh-condensed mb-0 mt-1 Link--primary\">Arduino</p>,\n",
       " <p class=\"f5 color-fg-muted mb-0 mt-1\">\n",
       "           Arduino is an open source platform for building electronic devices.\n",
       "         </p>,\n",
       " <p class=\"f3 lh-condensed mb-0 mt-1 Link--primary\">ASP.NET</p>,\n",
       " <p class=\"f5 color-fg-muted mb-0 mt-1\">\n",
       "           ASP.NET is a web framework for building modern web apps and services.\n",
       "         </p>,\n",
       " <p class=\"f3 lh-condensed mb-0 mt-1 Link--primary\">Awesome Lists</p>,\n",
       " <p class=\"f5 color-fg-muted mb-0 mt-1\">\n",
       "           An awesome list is a list of awesome things curated by the community.\n",
       "         </p>,\n",
       " <p class=\"f3 lh-condensed mb-0 mt-1 Link--primary\">Amazon Web Services</p>,\n",
       " <p class=\"f5 color-fg-muted mb-0 mt-1\">\n",
       "           Amazon Web Services provides on-demand cloud computing platforms on a subscription basis.\n",
       "         </p>,\n",
       " <p class=\"f3 lh-condensed mb-0 mt-1 Link--primary\">Azure</p>,\n",
       " <p class=\"f5 color-fg-muted mb-0 mt-1\">\n",
       "           Azure is a cloud computing service created by Microsoft.\n",
       "         </p>,\n",
       " <p class=\"f3 lh-condensed mb-0 mt-1 Link--primary\">Babel</p>,\n",
       " <p class=\"f5 color-fg-muted mb-0 mt-1\">\n",
       "           Babel is a compiler for writing next generation JavaScript, today.\n",
       "         </p>,\n",
       " <p class=\"f3 lh-condensed mb-0 mt-1 Link--primary\">Bash</p>,\n",
       " <p class=\"f5 color-fg-muted mb-0 mt-1\">\n",
       "           Bash is a shell and command language interpreter for the GNU operating system.\n",
       "         </p>,\n",
       " <p class=\"f3 lh-condensed mb-0 mt-1 Link--primary\">Bitcoin</p>,\n",
       " <p class=\"f5 color-fg-muted mb-0 mt-1\">\n",
       "           Bitcoin is a cryptocurrency developed by Satoshi Nakamoto.\n",
       "         </p>,\n",
       " <p class=\"f3 lh-condensed mb-0 mt-1 Link--primary\">Bootstrap</p>,\n",
       " <p class=\"f5 color-fg-muted mb-0 mt-1\">\n",
       "           Bootstrap is an HTML, CSS, and JavaScript framework.\n",
       "         </p>,\n",
       " <p class=\"f3 lh-condensed mb-0 mt-1 Link--primary\">Bot</p>,\n",
       " <p class=\"f5 color-fg-muted mb-0 mt-1\">\n",
       "           A bot is an application that runs automated tasks over the Internet.\n",
       "         </p>,\n",
       " <p class=\"f3 lh-condensed mb-0 mt-1 Link--primary\">C</p>,\n",
       " <p class=\"f5 color-fg-muted mb-0 mt-1\">\n",
       "           C is a general purpose programming language that first appeared in 1972.\n",
       "         </p>,\n",
       " <p class=\"f3 lh-condensed mb-0 mt-1 Link--primary\">Chrome</p>,\n",
       " <p class=\"f5 color-fg-muted mb-0 mt-1\">\n",
       "           Chrome is a web browser from the tech company Google.\n",
       "         </p>,\n",
       " <p class=\"f3 lh-condensed mb-0 mt-1 Link--primary\">Chrome extension</p>,\n",
       " <p class=\"f5 color-fg-muted mb-0 mt-1\">\n",
       "           Chrome extensions enable users to customize the Chrome browsing experience.\n",
       "         </p>,\n",
       " <p class=\"f3 lh-condensed mb-0 mt-1 Link--primary\">Command-line interface</p>,\n",
       " <p class=\"f5 color-fg-muted mb-0 mt-1\">\n",
       "           A CLI, or command-line interface, is a console that helps users issue commands to a program.\n",
       "         </p>,\n",
       " <p class=\"f3 lh-condensed mb-0 mt-1 Link--primary\">Clojure</p>,\n",
       " <p class=\"f5 color-fg-muted mb-0 mt-1\">\n",
       "           Clojure is a dynamic, general-purpose programming language.\n",
       "         </p>,\n",
       " <p class=\"f3 lh-condensed mb-0 mt-1 Link--primary\">Code quality</p>,\n",
       " <p class=\"f5 color-fg-muted mb-0 mt-1\">\n",
       "           Automate your code review with style, quality, security, and test‑coverage checks when you need them.\n",
       "         </p>,\n",
       " <p class=\"f3 lh-condensed mb-0 mt-1 Link--primary\">Code review</p>,\n",
       " <p class=\"f5 color-fg-muted mb-0 mt-1\">\n",
       "           Ensure your code meets quality standards and ship with confidence.\n",
       "         </p>,\n",
       " <p class=\"f3 lh-condensed mb-0 mt-1 Link--primary\">Compiler</p>,\n",
       " <p class=\"f5 color-fg-muted mb-0 mt-1\">\n",
       "           Compilers are software that translate higher-level programming languages to lower-level languages (e.g. machine code).\n",
       "         </p>,\n",
       " <p class=\"f3 lh-condensed mb-0 mt-1 Link--primary\">Continuous integration</p>,\n",
       " <p class=\"f5 color-fg-muted mb-0 mt-1\">\n",
       "           Automatically build and test your code as you push it upstream, preventing bugs from being deployed to production.\n",
       "         </p>,\n",
       " <p class=\"f3 lh-condensed mb-0 mt-1 Link--primary\">C++</p>,\n",
       " <p class=\"f5 color-fg-muted mb-0 mt-1\">\n",
       "           C++ is a general purpose and object-oriented programming language.\n",
       "         </p>,\n",
       " <p class=\"f3 lh-condensed mb-0 mt-1 Link--primary\">Cryptocurrency</p>,\n",
       " <p class=\"f5 color-fg-muted mb-0 mt-1\">\n",
       "           A cryptocurrency is a digital currency that uses cryptography.\n",
       "         </p>,\n",
       " <p class=\"f3 lh-condensed mb-0 mt-1 Link--primary\">Crystal</p>,\n",
       " <p class=\"f5 color-fg-muted mb-0 mt-1\">\n",
       "           Crystal is a self-hosted, general purpose programming language.\n",
       "         </p>]"
      ]
     },
     "execution_count": 12,
     "metadata": {},
     "output_type": "execute_result"
    }
   ],
   "source": [
    "p_tags=soup.find_all('p')\n",
    "p_tags"
   ]
  },
  {
   "cell_type": "code",
   "execution_count": 13,
   "id": "d674c336-4e26-4423-8e31-271c743136f0",
   "metadata": {},
   "outputs": [],
   "source": [
    "#len(topic_title_tags)"
   ]
  },
  {
   "cell_type": "code",
   "execution_count": 14,
   "id": "e62f9957-f22c-40ca-afcc-7841edfe19fc",
   "metadata": {},
   "outputs": [],
   "source": [
    "#topic_title_tags#"
   ]
  },
  {
   "cell_type": "code",
   "execution_count": 15,
   "id": "2add462d-51a5-4e21-a325-e2b96855a772",
   "metadata": {},
   "outputs": [],
   "source": [
    "topic_title_tags=soup.find_all('p',{\"class\":\"f3 lh-condensed mb-0 mt-1 Link--primary\"})"
   ]
  },
  {
   "cell_type": "code",
   "execution_count": 16,
   "id": "d0070336-1567-4eb7-9264-abaac20c3100",
   "metadata": {},
   "outputs": [
    {
     "data": {
      "text/plain": [
       "[<p class=\"f3 lh-condensed mb-0 mt-1 Link--primary\">3D</p>,\n",
       " <p class=\"f3 lh-condensed mb-0 mt-1 Link--primary\">Ajax</p>,\n",
       " <p class=\"f3 lh-condensed mb-0 mt-1 Link--primary\">Algorithm</p>,\n",
       " <p class=\"f3 lh-condensed mb-0 mt-1 Link--primary\">Amp</p>,\n",
       " <p class=\"f3 lh-condensed mb-0 mt-1 Link--primary\">Android</p>]"
      ]
     },
     "execution_count": 16,
     "metadata": {},
     "output_type": "execute_result"
    }
   ],
   "source": [
    "topic_title_tags[:5]"
   ]
  },
  {
   "cell_type": "code",
   "execution_count": 17,
   "id": "f3db9bf4-ac7b-4632-b8d8-8a6f007e0274",
   "metadata": {},
   "outputs": [
    {
     "data": {
      "text/plain": [
       "30"
      ]
     },
     "execution_count": 17,
     "metadata": {},
     "output_type": "execute_result"
    }
   ],
   "source": [
    "len(topic_title_tags)"
   ]
  },
  {
   "cell_type": "code",
   "execution_count": 18,
   "id": "d20c2724-b433-4923-aae1-0559e289e6c2",
   "metadata": {},
   "outputs": [],
   "source": [
    "discription_class={\"class\":\"f5 color-fg-muted mb-0 mt-1\"}\n",
    "topic_discription_class=soup.find_all('p',discription_class)"
   ]
  },
  {
   "cell_type": "code",
   "execution_count": 19,
   "id": "7f8d3120-781b-44ba-9825-12e04b172c81",
   "metadata": {},
   "outputs": [
    {
     "data": {
      "text/plain": [
       "[<p class=\"f5 color-fg-muted mb-0 mt-1\">\n",
       "           3D refers to the use of three-dimensional graphics, modeling, and animation in various industries.\n",
       "         </p>,\n",
       " <p class=\"f5 color-fg-muted mb-0 mt-1\">\n",
       "           Ajax is a technique for creating interactive web applications.\n",
       "         </p>,\n",
       " <p class=\"f5 color-fg-muted mb-0 mt-1\">\n",
       "           Algorithms are self-contained sequences that carry out a variety of tasks.\n",
       "         </p>,\n",
       " <p class=\"f5 color-fg-muted mb-0 mt-1\">\n",
       "           Amp is a non-blocking concurrency library for PHP.\n",
       "         </p>,\n",
       " <p class=\"f5 color-fg-muted mb-0 mt-1\">\n",
       "           Android is an operating system built by Google designed for mobile devices.\n",
       "         </p>]"
      ]
     },
     "execution_count": 19,
     "metadata": {},
     "output_type": "execute_result"
    }
   ],
   "source": [
    "topic_discription_class[:5]"
   ]
  },
  {
   "cell_type": "code",
   "execution_count": 20,
   "id": "a1989699-daf4-4481-bdb8-1ef8c571aaaa",
   "metadata": {},
   "outputs": [],
   "source": [
    "topic0_url=topic_title_tags[0].parent\n"
   ]
  },
  {
   "cell_type": "code",
   "execution_count": null,
   "id": "6a6d5dc4-1bf9-437b-87cd-7004907b751e",
   "metadata": {},
   "outputs": [],
   "source": []
  },
  {
   "cell_type": "code",
   "execution_count": 21,
   "id": "6d6b4623-0e49-4518-9452-8a1363893486",
   "metadata": {},
   "outputs": [],
   "source": [
    "link0=\"https://github.com\"+topic0_url.get('href')"
   ]
  },
  {
   "cell_type": "code",
   "execution_count": 22,
   "id": "f20f174d-5146-4ea1-a416-a44c0ca7768b",
   "metadata": {},
   "outputs": [
    {
     "data": {
      "text/plain": [
       "'https://github.com/topics/3d'"
      ]
     },
     "execution_count": 22,
     "metadata": {},
     "output_type": "execute_result"
    }
   ],
   "source": [
    "link0"
   ]
  },
  {
   "cell_type": "code",
   "execution_count": 23,
   "id": "02f7eea4-a87e-4d2c-8784-f0bf6889e856",
   "metadata": {},
   "outputs": [],
   "source": [
    "#topic1_url=topic_title_tags[1].parent\n",
    "#topic1_url"
   ]
  },
  {
   "cell_type": "code",
   "execution_count": 24,
   "id": "3321db68-a924-40c4-9cdb-25cff9c4bdae",
   "metadata": {},
   "outputs": [],
   "source": [
    "#link1=\"https://github.com\"+topic1_url.get('href')"
   ]
  },
  {
   "cell_type": "code",
   "execution_count": 25,
   "id": "326fb6b4-5411-44c6-a953-efc8fde78472",
   "metadata": {},
   "outputs": [],
   "source": [
    "#link1"
   ]
  },
  {
   "cell_type": "code",
   "execution_count": 26,
   "id": "679b306d-973e-43e1-b801-42893abdc4b7",
   "metadata": {},
   "outputs": [],
   "source": [
    "#topic2_url=topic_title_tags[2].parent\n",
    "#topic2_url"
   ]
  },
  {
   "cell_type": "code",
   "execution_count": 27,
   "id": "9495ceb7-2ac1-4b60-b65a-3c1aaec35285",
   "metadata": {},
   "outputs": [],
   "source": [
    "#link2=\"https://github.com\"+topic2_url.get('href')"
   ]
  },
  {
   "cell_type": "code",
   "execution_count": 28,
   "id": "87071d0d-145f-4f09-a0a8-48745faaaf95",
   "metadata": {},
   "outputs": [],
   "source": [
    "#link2"
   ]
  },
  {
   "cell_type": "code",
   "execution_count": 29,
   "id": "6df17021-8279-44dc-93c6-c7514be747d8",
   "metadata": {},
   "outputs": [
    {
     "data": {
      "text/plain": [
       "30"
      ]
     },
     "execution_count": 29,
     "metadata": {},
     "output_type": "execute_result"
    }
   ],
   "source": [
    "topic_link_tags = soup.find_all('a',{'class': \"no-underline flex-grow-0\"})\n",
    "len(topic_link_tags)"
   ]
  },
  {
   "cell_type": "code",
   "execution_count": 30,
   "id": "52914297-8f22-4ae4-a1b9-2f6cb1841d1a",
   "metadata": {},
   "outputs": [],
   "source": [
    "topic0_url=\"https://github.com\"+topic_link_tags[0]['href']"
   ]
  },
  {
   "cell_type": "code",
   "execution_count": 31,
   "id": "008b207b-e673-4224-a23b-9ab5b9542691",
   "metadata": {},
   "outputs": [
    {
     "data": {
      "text/plain": [
       "'https://github.com/topics/3d'"
      ]
     },
     "execution_count": 31,
     "metadata": {},
     "output_type": "execute_result"
    }
   ],
   "source": [
    "topic0_url"
   ]
  },
  {
   "cell_type": "code",
   "execution_count": 32,
   "id": "1c70159e-7a34-4ae8-9810-d4b1083214e5",
   "metadata": {},
   "outputs": [
    {
     "name": "stdout",
     "output_type": "stream",
     "text": [
      "['3D', 'Ajax', 'Algorithm', 'Amp', 'Android', 'Angular', 'Ansible', 'API', 'Arduino', 'ASP.NET', 'Awesome Lists', 'Amazon Web Services', 'Azure', 'Babel', 'Bash', 'Bitcoin', 'Bootstrap', 'Bot', 'C', 'Chrome', 'Chrome extension', 'Command-line interface', 'Clojure', 'Code quality', 'Code review', 'Compiler', 'Continuous integration', 'C++', 'Cryptocurrency', 'Crystal']\n"
     ]
    }
   ],
   "source": [
    "topic_titles=[]\n",
    "for tags in topic_title_tags:\n",
    "    topic_titles.append(tags.text)\n",
    "print(topic_titles)"
   ]
  },
  {
   "cell_type": "code",
   "execution_count": 33,
   "id": "5beb1f97-922e-4f2b-97a9-2d5011184fb8",
   "metadata": {},
   "outputs": [
    {
     "name": "stdout",
     "output_type": "stream",
     "text": [
      "['3D refers to the use of three-dimensional graphics, modeling, and animation in various industries.', 'Ajax is a technique for creating interactive web applications.', 'Algorithms are self-contained sequences that carry out a variety of tasks.', 'Amp is a non-blocking concurrency library for PHP.', 'Android is an operating system built by Google designed for mobile devices.']\n"
     ]
    }
   ],
   "source": [
    "topic_description=[]\n",
    "for tag in topic_discription_class:\n",
    "    topic_description.append(tag.text.strip())\n",
    "print(topic_description[:5])"
   ]
  },
  {
   "cell_type": "code",
   "execution_count": 34,
   "id": "70489661-6f0a-42dd-b978-08f89a0765d0",
   "metadata": {},
   "outputs": [
    {
     "name": "stdout",
     "output_type": "stream",
     "text": [
      "['https://github.com/topics/3d', 'https://github.com/topics/ajax', 'https://github.com/topics/algorithm', 'https://github.com/topics/amphp', 'https://github.com/topics/android']\n"
     ]
    }
   ],
   "source": [
    "topic_urls=[]\n",
    "base_url=\"https://github.com\"\n",
    "for tag in topic_link_tags:\n",
    "    topic_urls.append(base_url + tag[\"href\"])\n",
    "print(topic_urls[:5])"
   ]
  },
  {
   "cell_type": "code",
   "execution_count": 35,
   "id": "9a6c5f22-24f4-494b-85b0-21615b63eca7",
   "metadata": {},
   "outputs": [],
   "source": [
    "import pandas as pd"
   ]
  },
  {
   "cell_type": "code",
   "execution_count": 36,
   "id": "629c8388-ea3c-4fe7-aaba-a6693200a92b",
   "metadata": {},
   "outputs": [],
   "source": [
    "topic_dict={\"title\":topic_titles,\"description\":topic_description,\"url\":topic_urls}"
   ]
  },
  {
   "cell_type": "code",
   "execution_count": 37,
   "id": "d5d0049e-af79-4f49-a0cd-3c4069e9755d",
   "metadata": {},
   "outputs": [
    {
     "data": {
      "text/plain": [
       "{'title': ['3D',\n",
       "  'Ajax',\n",
       "  'Algorithm',\n",
       "  'Amp',\n",
       "  'Android',\n",
       "  'Angular',\n",
       "  'Ansible',\n",
       "  'API',\n",
       "  'Arduino',\n",
       "  'ASP.NET',\n",
       "  'Awesome Lists',\n",
       "  'Amazon Web Services',\n",
       "  'Azure',\n",
       "  'Babel',\n",
       "  'Bash',\n",
       "  'Bitcoin',\n",
       "  'Bootstrap',\n",
       "  'Bot',\n",
       "  'C',\n",
       "  'Chrome',\n",
       "  'Chrome extension',\n",
       "  'Command-line interface',\n",
       "  'Clojure',\n",
       "  'Code quality',\n",
       "  'Code review',\n",
       "  'Compiler',\n",
       "  'Continuous integration',\n",
       "  'C++',\n",
       "  'Cryptocurrency',\n",
       "  'Crystal'],\n",
       " 'description': ['3D refers to the use of three-dimensional graphics, modeling, and animation in various industries.',\n",
       "  'Ajax is a technique for creating interactive web applications.',\n",
       "  'Algorithms are self-contained sequences that carry out a variety of tasks.',\n",
       "  'Amp is a non-blocking concurrency library for PHP.',\n",
       "  'Android is an operating system built by Google designed for mobile devices.',\n",
       "  'Angular is an open source web application platform.',\n",
       "  'Ansible is a simple and powerful automation engine.',\n",
       "  'An API (Application Programming Interface) is a collection of protocols and subroutines for building software.',\n",
       "  'Arduino is an open source platform for building electronic devices.',\n",
       "  'ASP.NET is a web framework for building modern web apps and services.',\n",
       "  'An awesome list is a list of awesome things curated by the community.',\n",
       "  'Amazon Web Services provides on-demand cloud computing platforms on a subscription basis.',\n",
       "  'Azure is a cloud computing service created by Microsoft.',\n",
       "  'Babel is a compiler for writing next generation JavaScript, today.',\n",
       "  'Bash is a shell and command language interpreter for the GNU operating system.',\n",
       "  'Bitcoin is a cryptocurrency developed by Satoshi Nakamoto.',\n",
       "  'Bootstrap is an HTML, CSS, and JavaScript framework.',\n",
       "  'A bot is an application that runs automated tasks over the Internet.',\n",
       "  'C is a general purpose programming language that first appeared in 1972.',\n",
       "  'Chrome is a web browser from the tech company Google.',\n",
       "  'Chrome extensions enable users to customize the Chrome browsing experience.',\n",
       "  'A CLI, or command-line interface, is a console that helps users issue commands to a program.',\n",
       "  'Clojure is a dynamic, general-purpose programming language.',\n",
       "  'Automate your code review with style, quality, security, and test‑coverage checks when you need them.',\n",
       "  'Ensure your code meets quality standards and ship with confidence.',\n",
       "  'Compilers are software that translate higher-level programming languages to lower-level languages (e.g. machine code).',\n",
       "  'Automatically build and test your code as you push it upstream, preventing bugs from being deployed to production.',\n",
       "  'C++ is a general purpose and object-oriented programming language.',\n",
       "  'A cryptocurrency is a digital currency that uses cryptography.',\n",
       "  'Crystal is a self-hosted, general purpose programming language.'],\n",
       " 'url': ['https://github.com/topics/3d',\n",
       "  'https://github.com/topics/ajax',\n",
       "  'https://github.com/topics/algorithm',\n",
       "  'https://github.com/topics/amphp',\n",
       "  'https://github.com/topics/android',\n",
       "  'https://github.com/topics/angular',\n",
       "  'https://github.com/topics/ansible',\n",
       "  'https://github.com/topics/api',\n",
       "  'https://github.com/topics/arduino',\n",
       "  'https://github.com/topics/aspnet',\n",
       "  'https://github.com/topics/awesome',\n",
       "  'https://github.com/topics/aws',\n",
       "  'https://github.com/topics/azure',\n",
       "  'https://github.com/topics/babel',\n",
       "  'https://github.com/topics/bash',\n",
       "  'https://github.com/topics/bitcoin',\n",
       "  'https://github.com/topics/bootstrap',\n",
       "  'https://github.com/topics/bot',\n",
       "  'https://github.com/topics/c',\n",
       "  'https://github.com/topics/chrome',\n",
       "  'https://github.com/topics/chrome-extension',\n",
       "  'https://github.com/topics/cli',\n",
       "  'https://github.com/topics/clojure',\n",
       "  'https://github.com/topics/code-quality',\n",
       "  'https://github.com/topics/code-review',\n",
       "  'https://github.com/topics/compiler',\n",
       "  'https://github.com/topics/continuous-integration',\n",
       "  'https://github.com/topics/cpp',\n",
       "  'https://github.com/topics/cryptocurrency',\n",
       "  'https://github.com/topics/crystal']}"
      ]
     },
     "execution_count": 37,
     "metadata": {},
     "output_type": "execute_result"
    }
   ],
   "source": [
    "topic_dict"
   ]
  },
  {
   "cell_type": "code",
   "execution_count": 38,
   "id": "85107aa2-34e6-4f02-9383-012157663838",
   "metadata": {},
   "outputs": [
    {
     "name": "stdout",
     "output_type": "stream",
     "text": [
      "                     title                                        description  \\\n",
      "0                       3D  3D refers to the use of three-dimensional grap...   \n",
      "1                     Ajax  Ajax is a technique for creating interactive w...   \n",
      "2                Algorithm  Algorithms are self-contained sequences that c...   \n",
      "3                      Amp  Amp is a non-blocking concurrency library for ...   \n",
      "4                  Android  Android is an operating system built by Google...   \n",
      "5                  Angular  Angular is an open source web application plat...   \n",
      "6                  Ansible  Ansible is a simple and powerful automation en...   \n",
      "7                      API  An API (Application Programming Interface) is ...   \n",
      "8                  Arduino  Arduino is an open source platform for buildin...   \n",
      "9                  ASP.NET  ASP.NET is a web framework for building modern...   \n",
      "10           Awesome Lists  An awesome list is a list of awesome things cu...   \n",
      "11     Amazon Web Services  Amazon Web Services provides on-demand cloud c...   \n",
      "12                   Azure  Azure is a cloud computing service created by ...   \n",
      "13                   Babel  Babel is a compiler for writing next generatio...   \n",
      "14                    Bash  Bash is a shell and command language interpret...   \n",
      "15                 Bitcoin  Bitcoin is a cryptocurrency developed by Satos...   \n",
      "16               Bootstrap  Bootstrap is an HTML, CSS, and JavaScript fram...   \n",
      "17                     Bot  A bot is an application that runs automated ta...   \n",
      "18                       C  C is a general purpose programming language th...   \n",
      "19                  Chrome  Chrome is a web browser from the tech company ...   \n",
      "20        Chrome extension  Chrome extensions enable users to customize th...   \n",
      "21  Command-line interface  A CLI, or command-line interface, is a console...   \n",
      "22                 Clojure  Clojure is a dynamic, general-purpose programm...   \n",
      "23            Code quality  Automate your code review with style, quality,...   \n",
      "24             Code review  Ensure your code meets quality standards and s...   \n",
      "25                Compiler  Compilers are software that translate higher-l...   \n",
      "26  Continuous integration  Automatically build and test your code as you ...   \n",
      "27                     C++  C++ is a general purpose and object-oriented p...   \n",
      "28          Cryptocurrency  A cryptocurrency is a digital currency that us...   \n",
      "29                 Crystal  Crystal is a self-hosted, general purpose prog...   \n",
      "\n",
      "                                                 url  \n",
      "0                       https://github.com/topics/3d  \n",
      "1                     https://github.com/topics/ajax  \n",
      "2                https://github.com/topics/algorithm  \n",
      "3                    https://github.com/topics/amphp  \n",
      "4                  https://github.com/topics/android  \n",
      "5                  https://github.com/topics/angular  \n",
      "6                  https://github.com/topics/ansible  \n",
      "7                      https://github.com/topics/api  \n",
      "8                  https://github.com/topics/arduino  \n",
      "9                   https://github.com/topics/aspnet  \n",
      "10                 https://github.com/topics/awesome  \n",
      "11                     https://github.com/topics/aws  \n",
      "12                   https://github.com/topics/azure  \n",
      "13                   https://github.com/topics/babel  \n",
      "14                    https://github.com/topics/bash  \n",
      "15                 https://github.com/topics/bitcoin  \n",
      "16               https://github.com/topics/bootstrap  \n",
      "17                     https://github.com/topics/bot  \n",
      "18                       https://github.com/topics/c  \n",
      "19                  https://github.com/topics/chrome  \n",
      "20        https://github.com/topics/chrome-extension  \n",
      "21                     https://github.com/topics/cli  \n",
      "22                 https://github.com/topics/clojure  \n",
      "23            https://github.com/topics/code-quality  \n",
      "24             https://github.com/topics/code-review  \n",
      "25                https://github.com/topics/compiler  \n",
      "26  https://github.com/topics/continuous-integration  \n",
      "27                     https://github.com/topics/cpp  \n",
      "28          https://github.com/topics/cryptocurrency  \n",
      "29                 https://github.com/topics/crystal  \n"
     ]
    }
   ],
   "source": [
    "topic_df = pd.DataFrame(topic_dict)\n",
    "print(topic_df)"
   ]
  },
  {
   "cell_type": "code",
   "execution_count": 39,
   "id": "3a2f63c2-a3a7-4565-a1cc-4a6e47915026",
   "metadata": {},
   "outputs": [],
   "source": [
    "# creating csv with the extracted information"
   ]
  },
  {
   "cell_type": "code",
   "execution_count": 40,
   "id": "27c9887d-5a5e-4d66-b7e6-33f11e040e23",
   "metadata": {},
   "outputs": [],
   "source": [
    "topic_df.to_csv(\"topics.csv\")"
   ]
  },
  {
   "cell_type": "code",
   "execution_count": 41,
   "id": "7d711fcf-49d4-49a8-9d66-accd7d7d7db7",
   "metadata": {},
   "outputs": [],
   "source": [
    "# getting information outof topic page"
   ]
  },
  {
   "cell_type": "code",
   "execution_count": 42,
   "id": "2ccbaecd-b691-4dde-96c9-f70056f8f3ef",
   "metadata": {},
   "outputs": [
    {
     "data": {
      "text/plain": [
       "'https://github.com/topics/3d'"
      ]
     },
     "execution_count": 42,
     "metadata": {},
     "output_type": "execute_result"
    }
   ],
   "source": [
    "topic_page_url=topic_urls[0]\n",
    "topic_page_url"
   ]
  },
  {
   "cell_type": "code",
   "execution_count": 43,
   "id": "3f1d8b6b-434c-45cb-8cc7-a18e1d6c03dc",
   "metadata": {},
   "outputs": [],
   "source": [
    "response=requests.get(topic_page_url)"
   ]
  },
  {
   "cell_type": "code",
   "execution_count": 44,
   "id": "92ffad77-76ae-4a88-9211-9c381459fe79",
   "metadata": {},
   "outputs": [
    {
     "data": {
      "text/plain": [
       "200"
      ]
     },
     "execution_count": 44,
     "metadata": {},
     "output_type": "execute_result"
    }
   ],
   "source": [
    "response.status_code"
   ]
  },
  {
   "cell_type": "code",
   "execution_count": 45,
   "id": "37194865-9890-469a-acd0-ffc9d46811e3",
   "metadata": {},
   "outputs": [],
   "source": [
    "topic_doc=BeautifulSoup(response.text,\"html.parser\")"
   ]
  },
  {
   "cell_type": "code",
   "execution_count": 46,
   "id": "22cd16f2-d634-4334-bf85-75a8f7118c48",
   "metadata": {},
   "outputs": [
    {
     "name": "stdout",
     "output_type": "stream",
     "text": [
      "/mrdoob/three.js\n"
     ]
    }
   ],
   "source": [
    "doc_name=topic_doc.find_all('a',{'class':\"Link text-bold wb-break-word\"})\n",
    "\n",
    "#len(doc_name)\n",
    "print(doc_name[0]['href'])\n",
    "repo_link=base_url+doc_name[0]['href']\n",
    "#repo_link"
   ]
  },
  {
   "cell_type": "code",
   "execution_count": 47,
   "id": "8152a3fd-a1b3-4ab2-86d6-52d7a26e3c00",
   "metadata": {},
   "outputs": [
    {
     "data": {
      "text/plain": [
       "<h3 class=\"f3 color-fg-muted text-normal lh-condensed\">\n",
       "<a class=\"Link\" data-hydro-click='{\"event_type\":\"explore.click\",\"payload\":{\"click_context\":\"REPOSITORY_CARD\",\"click_target\":\"OWNER\",\"click_visual_representation\":\"REPOSITORY_OWNER_HEADING\",\"actor_id\":null,\"record_id\":97088,\"originating_url\":\"https://github.com/topics/3d\",\"user_id\":null}}' data-hydro-click-hmac=\"c72fbd5c69a8ee7c9c53a4e65de2b93c8fc7552dd793945819639bc165c0f0ba\" data-turbo=\"false\" data-view-component=\"true\" href=\"/mrdoob\">\n",
       "            mrdoob\n",
       "</a>          /\n",
       "          <a class=\"Link text-bold wb-break-word\" data-hydro-click='{\"event_type\":\"explore.click\",\"payload\":{\"click_context\":\"REPOSITORY_CARD\",\"click_target\":\"REPOSITORY\",\"click_visual_representation\":\"REPOSITORY_NAME_HEADING\",\"actor_id\":null,\"record_id\":576201,\"originating_url\":\"https://github.com/topics/3d\",\"user_id\":null}}' data-hydro-click-hmac=\"4a2667db3d63a1739c412e059e5da95afe419df83f70949b5d59dc3478f5c79a\" data-turbo=\"false\" data-view-component=\"true\" href=\"/mrdoob/three.js\">\n",
       "            three.js\n",
       "</a> </h3>"
      ]
     },
     "execution_count": 47,
     "metadata": {},
     "output_type": "execute_result"
    }
   ],
   "source": [
    "h3_selection_class=\"f3 color-fg-muted text-normal lh-condensed\"\n",
    "repo_tag=topic_doc.find_all('h3',{'class':h3_selection_class})\n",
    "len(repo_tag)\n",
    "repo_tag[0]\n",
    "#a_tags=repo_tag[0].find_all('a')\n",
    "#a_tags\n",
    "#a_tags[0].text.strip()\n"
   ]
  },
  {
   "cell_type": "code",
   "execution_count": 48,
   "id": "c91c7b4b-2889-4402-8531-127a5590e280",
   "metadata": {},
   "outputs": [],
   "source": [
    "#a_tags[1].text.strip()"
   ]
  },
  {
   "cell_type": "code",
   "execution_count": 49,
   "id": "f6ba84a7-ec5a-4dde-9741-968277c151d1",
   "metadata": {},
   "outputs": [
    {
     "data": {
      "text/plain": [
       "'https://github.com/mrdoob/three.js'"
      ]
     },
     "execution_count": 49,
     "metadata": {},
     "output_type": "execute_result"
    }
   ],
   "source": [
    "#repo_link=base_url+a_tags[1]['href']\n",
    "repo_link"
   ]
  },
  {
   "cell_type": "code",
   "execution_count": 50,
   "id": "0555bd9d-a685-4bb8-b073-fa0e328585eb",
   "metadata": {},
   "outputs": [],
   "source": [
    "star_tags=topic_doc.find_all('span',{'class':\"Counter js-social-count\"})"
   ]
  },
  {
   "cell_type": "code",
   "execution_count": 51,
   "id": "91a6abb2-e988-4de3-aee3-a5c9f2b482ad",
   "metadata": {},
   "outputs": [
    {
     "data": {
      "text/plain": [
       "20"
      ]
     },
     "execution_count": 51,
     "metadata": {},
     "output_type": "execute_result"
    }
   ],
   "source": [
    "len(star_tags)"
   ]
  },
  {
   "cell_type": "code",
   "execution_count": 52,
   "id": "0ab0511c-35e9-46ac-98c2-47bcde763492",
   "metadata": {},
   "outputs": [
    {
     "data": {
      "text/plain": [
       "'102k'"
      ]
     },
     "execution_count": 52,
     "metadata": {},
     "output_type": "execute_result"
    }
   ],
   "source": [
    "star_tags[0].text"
   ]
  },
  {
   "cell_type": "code",
   "execution_count": 53,
   "id": "eb9b79c4-17a4-4b4b-bb74-38daec3d3d76",
   "metadata": {},
   "outputs": [],
   "source": [
    "def parse_star_strip(star_str):\n",
    "    star_str=star_str.strip()\n",
    "    if star_str[-1]=='k':\n",
    "       return int(float(star_str[:-1])*1000)\n",
    "    return int(star_str)"
   ]
  },
  {
   "cell_type": "code",
   "execution_count": 54,
   "id": "d4b35124-6ccd-48db-af09-bb2093881da5",
   "metadata": {},
   "outputs": [
    {
     "data": {
      "text/plain": [
       "102000"
      ]
     },
     "execution_count": 54,
     "metadata": {},
     "output_type": "execute_result"
    }
   ],
   "source": [
    "parse_star_strip(star_tags[0].text)"
   ]
  },
  {
   "cell_type": "code",
   "execution_count": 55,
   "id": "ca9f2f9d-5750-4409-a336-bab1a0898eb7",
   "metadata": {},
   "outputs": [],
   "source": [
    "def get_repo_info(h3_tag,star_tag):  # gives all information about repository\n",
    "    a_tag=h3_tag.find_all('a')\n",
    "    user_name=a_tag[0].text.strip()\n",
    "    repo_name=a_tag[1].text.strip()\n",
    "    repo_url=base_url+a_tag[1]['href']\n",
    "    stars=parse_star_strip(star_tag.text.strip())\n",
    "    return user_name,repo_name,repo_url,stars"
   ]
  },
  {
   "cell_type": "code",
   "execution_count": 56,
   "id": "8d8019f8-c4b2-4a19-af40-856b095320ce",
   "metadata": {},
   "outputs": [
    {
     "data": {
      "text/plain": [
       "('lettier',\n",
       " '3d-game-shaders-for-beginners',\n",
       " 'https://github.com/lettier/3d-game-shaders-for-beginners',\n",
       " 17900)"
      ]
     },
     "execution_count": 56,
     "metadata": {},
     "output_type": "execute_result"
    }
   ],
   "source": [
    "get_repo_info(repo_tag[6],star_tags[6])"
   ]
  },
  {
   "cell_type": "code",
   "execution_count": 57,
   "id": "06caa0b5-b3fa-4e49-8e6d-e9f5e140c81b",
   "metadata": {},
   "outputs": [
    {
     "data": {
      "text/plain": [
       "20"
      ]
     },
     "execution_count": 57,
     "metadata": {},
     "output_type": "execute_result"
    }
   ],
   "source": [
    "repo_tag\n",
    "len(repo_tag)"
   ]
  },
  {
   "cell_type": "code",
   "execution_count": 58,
   "id": "586d4298-f561-4dc7-877e-64cbfc2b7344",
   "metadata": {},
   "outputs": [],
   "source": [
    "# creating a dictionary\n",
    "topic_repo_dict={\n",
    "    \"user_name\":[],\n",
    "    \"repo_name\":[],\n",
    "    \"repo_url\":[],\n",
    "    \"stars\":[]\n",
    "}"
   ]
  },
  {
   "cell_type": "code",
   "execution_count": 59,
   "id": "20d70ae3-1302-4cea-8b55-28df5ea3aa28",
   "metadata": {},
   "outputs": [],
   "source": [
    "for i in range(len(repo_tag)):\n",
    "      repo_info = get_repo_info(repo_tag[i],star_tags[i])\n",
    "      topic_repo_dict[\"user_name\"].append(repo_info[0])\n",
    "      topic_repo_dict[\"repo_name\"].append(repo_info[1])\n",
    "      topic_repo_dict[\"repo_url\"].append(repo_info[2])\n",
    "      topic_repo_dict[\"stars\"].append(repo_info[3])"
   ]
  },
  {
   "cell_type": "code",
   "execution_count": 60,
   "id": "62c66a3b-eb57-4424-9beb-30072e2729bc",
   "metadata": {},
   "outputs": [
    {
     "data": {
      "text/plain": [
       "{'user_name': ['mrdoob',\n",
       "  'pmndrs',\n",
       "  'libgdx',\n",
       "  'BabylonJS',\n",
       "  'ssloy',\n",
       "  'FreeCAD',\n",
       "  'lettier',\n",
       "  'aframevr',\n",
       "  'blender',\n",
       "  'CesiumGS',\n",
       "  'MonoGame',\n",
       "  'isl-org',\n",
       "  'mapbox',\n",
       "  '4ian',\n",
       "  'metafizzy',\n",
       "  'timzhang642',\n",
       "  'nerfstudio-project',\n",
       "  'cocos',\n",
       "  'FyroxEngine',\n",
       "  'domlysz'],\n",
       " 'repo_name': ['three.js',\n",
       "  'react-three-fiber',\n",
       "  'libgdx',\n",
       "  'Babylon.js',\n",
       "  'tinyrenderer',\n",
       "  'FreeCAD',\n",
       "  '3d-game-shaders-for-beginners',\n",
       "  'aframe',\n",
       "  'blender',\n",
       "  'cesium',\n",
       "  'MonoGame',\n",
       "  'Open3D',\n",
       "  'mapbox-gl-js',\n",
       "  'GDevelop',\n",
       "  'zdog',\n",
       "  '3D-Machine-Learning',\n",
       "  'nerfstudio',\n",
       "  'cocos-engine',\n",
       "  'Fyrox',\n",
       "  'BlenderGIS'],\n",
       " 'repo_url': ['https://github.com/mrdoob/three.js',\n",
       "  'https://github.com/pmndrs/react-three-fiber',\n",
       "  'https://github.com/libgdx/libgdx',\n",
       "  'https://github.com/BabylonJS/Babylon.js',\n",
       "  'https://github.com/ssloy/tinyrenderer',\n",
       "  'https://github.com/FreeCAD/FreeCAD',\n",
       "  'https://github.com/lettier/3d-game-shaders-for-beginners',\n",
       "  'https://github.com/aframevr/aframe',\n",
       "  'https://github.com/blender/blender',\n",
       "  'https://github.com/CesiumGS/cesium',\n",
       "  'https://github.com/MonoGame/MonoGame',\n",
       "  'https://github.com/isl-org/Open3D',\n",
       "  'https://github.com/mapbox/mapbox-gl-js',\n",
       "  'https://github.com/4ian/GDevelop',\n",
       "  'https://github.com/metafizzy/zdog',\n",
       "  'https://github.com/timzhang642/3D-Machine-Learning',\n",
       "  'https://github.com/nerfstudio-project/nerfstudio',\n",
       "  'https://github.com/cocos/cocos-engine',\n",
       "  'https://github.com/FyroxEngine/Fyrox',\n",
       "  'https://github.com/domlysz/BlenderGIS'],\n",
       " 'stars': [102000,\n",
       "  27400,\n",
       "  23300,\n",
       "  23200,\n",
       "  20500,\n",
       "  19600,\n",
       "  17900,\n",
       "  16700,\n",
       "  13200,\n",
       "  12900,\n",
       "  11500,\n",
       "  11400,\n",
       "  11200,\n",
       "  11000,\n",
       "  10400,\n",
       "  9800,\n",
       "  9500,\n",
       "  8200,\n",
       "  7700,\n",
       "  7700]}"
      ]
     },
     "execution_count": 60,
     "metadata": {},
     "output_type": "execute_result"
    }
   ],
   "source": [
    "topic_repo_dict"
   ]
  },
  {
   "cell_type": "code",
   "execution_count": 61,
   "id": "d845f947-3642-4337-b408-3669eb43824d",
   "metadata": {},
   "outputs": [],
   "source": [
    "topic_repo_df=pd.DataFrame(topic_repo_dict)"
   ]
  },
  {
   "cell_type": "code",
   "execution_count": 62,
   "id": "f4a37ac4-e1ff-4292-97fa-b34758e950fe",
   "metadata": {},
   "outputs": [
    {
     "data": {
      "text/html": [
       "<div>\n",
       "<style scoped>\n",
       "    .dataframe tbody tr th:only-of-type {\n",
       "        vertical-align: middle;\n",
       "    }\n",
       "\n",
       "    .dataframe tbody tr th {\n",
       "        vertical-align: top;\n",
       "    }\n",
       "\n",
       "    .dataframe thead th {\n",
       "        text-align: right;\n",
       "    }\n",
       "</style>\n",
       "<table border=\"1\" class=\"dataframe\">\n",
       "  <thead>\n",
       "    <tr style=\"text-align: right;\">\n",
       "      <th></th>\n",
       "      <th>user_name</th>\n",
       "      <th>repo_name</th>\n",
       "      <th>repo_url</th>\n",
       "      <th>stars</th>\n",
       "    </tr>\n",
       "  </thead>\n",
       "  <tbody>\n",
       "    <tr>\n",
       "      <th>0</th>\n",
       "      <td>mrdoob</td>\n",
       "      <td>three.js</td>\n",
       "      <td>https://github.com/mrdoob/three.js</td>\n",
       "      <td>102000</td>\n",
       "    </tr>\n",
       "    <tr>\n",
       "      <th>1</th>\n",
       "      <td>pmndrs</td>\n",
       "      <td>react-three-fiber</td>\n",
       "      <td>https://github.com/pmndrs/react-three-fiber</td>\n",
       "      <td>27400</td>\n",
       "    </tr>\n",
       "    <tr>\n",
       "      <th>2</th>\n",
       "      <td>libgdx</td>\n",
       "      <td>libgdx</td>\n",
       "      <td>https://github.com/libgdx/libgdx</td>\n",
       "      <td>23300</td>\n",
       "    </tr>\n",
       "    <tr>\n",
       "      <th>3</th>\n",
       "      <td>BabylonJS</td>\n",
       "      <td>Babylon.js</td>\n",
       "      <td>https://github.com/BabylonJS/Babylon.js</td>\n",
       "      <td>23200</td>\n",
       "    </tr>\n",
       "    <tr>\n",
       "      <th>4</th>\n",
       "      <td>ssloy</td>\n",
       "      <td>tinyrenderer</td>\n",
       "      <td>https://github.com/ssloy/tinyrenderer</td>\n",
       "      <td>20500</td>\n",
       "    </tr>\n",
       "    <tr>\n",
       "      <th>5</th>\n",
       "      <td>FreeCAD</td>\n",
       "      <td>FreeCAD</td>\n",
       "      <td>https://github.com/FreeCAD/FreeCAD</td>\n",
       "      <td>19600</td>\n",
       "    </tr>\n",
       "    <tr>\n",
       "      <th>6</th>\n",
       "      <td>lettier</td>\n",
       "      <td>3d-game-shaders-for-beginners</td>\n",
       "      <td>https://github.com/lettier/3d-game-shaders-for...</td>\n",
       "      <td>17900</td>\n",
       "    </tr>\n",
       "    <tr>\n",
       "      <th>7</th>\n",
       "      <td>aframevr</td>\n",
       "      <td>aframe</td>\n",
       "      <td>https://github.com/aframevr/aframe</td>\n",
       "      <td>16700</td>\n",
       "    </tr>\n",
       "    <tr>\n",
       "      <th>8</th>\n",
       "      <td>blender</td>\n",
       "      <td>blender</td>\n",
       "      <td>https://github.com/blender/blender</td>\n",
       "      <td>13200</td>\n",
       "    </tr>\n",
       "    <tr>\n",
       "      <th>9</th>\n",
       "      <td>CesiumGS</td>\n",
       "      <td>cesium</td>\n",
       "      <td>https://github.com/CesiumGS/cesium</td>\n",
       "      <td>12900</td>\n",
       "    </tr>\n",
       "    <tr>\n",
       "      <th>10</th>\n",
       "      <td>MonoGame</td>\n",
       "      <td>MonoGame</td>\n",
       "      <td>https://github.com/MonoGame/MonoGame</td>\n",
       "      <td>11500</td>\n",
       "    </tr>\n",
       "    <tr>\n",
       "      <th>11</th>\n",
       "      <td>isl-org</td>\n",
       "      <td>Open3D</td>\n",
       "      <td>https://github.com/isl-org/Open3D</td>\n",
       "      <td>11400</td>\n",
       "    </tr>\n",
       "    <tr>\n",
       "      <th>12</th>\n",
       "      <td>mapbox</td>\n",
       "      <td>mapbox-gl-js</td>\n",
       "      <td>https://github.com/mapbox/mapbox-gl-js</td>\n",
       "      <td>11200</td>\n",
       "    </tr>\n",
       "    <tr>\n",
       "      <th>13</th>\n",
       "      <td>4ian</td>\n",
       "      <td>GDevelop</td>\n",
       "      <td>https://github.com/4ian/GDevelop</td>\n",
       "      <td>11000</td>\n",
       "    </tr>\n",
       "    <tr>\n",
       "      <th>14</th>\n",
       "      <td>metafizzy</td>\n",
       "      <td>zdog</td>\n",
       "      <td>https://github.com/metafizzy/zdog</td>\n",
       "      <td>10400</td>\n",
       "    </tr>\n",
       "    <tr>\n",
       "      <th>15</th>\n",
       "      <td>timzhang642</td>\n",
       "      <td>3D-Machine-Learning</td>\n",
       "      <td>https://github.com/timzhang642/3D-Machine-Lear...</td>\n",
       "      <td>9800</td>\n",
       "    </tr>\n",
       "    <tr>\n",
       "      <th>16</th>\n",
       "      <td>nerfstudio-project</td>\n",
       "      <td>nerfstudio</td>\n",
       "      <td>https://github.com/nerfstudio-project/nerfstudio</td>\n",
       "      <td>9500</td>\n",
       "    </tr>\n",
       "    <tr>\n",
       "      <th>17</th>\n",
       "      <td>cocos</td>\n",
       "      <td>cocos-engine</td>\n",
       "      <td>https://github.com/cocos/cocos-engine</td>\n",
       "      <td>8200</td>\n",
       "    </tr>\n",
       "    <tr>\n",
       "      <th>18</th>\n",
       "      <td>FyroxEngine</td>\n",
       "      <td>Fyrox</td>\n",
       "      <td>https://github.com/FyroxEngine/Fyrox</td>\n",
       "      <td>7700</td>\n",
       "    </tr>\n",
       "    <tr>\n",
       "      <th>19</th>\n",
       "      <td>domlysz</td>\n",
       "      <td>BlenderGIS</td>\n",
       "      <td>https://github.com/domlysz/BlenderGIS</td>\n",
       "      <td>7700</td>\n",
       "    </tr>\n",
       "  </tbody>\n",
       "</table>\n",
       "</div>"
      ],
      "text/plain": [
       "             user_name                      repo_name  \\\n",
       "0               mrdoob                       three.js   \n",
       "1               pmndrs              react-three-fiber   \n",
       "2               libgdx                         libgdx   \n",
       "3            BabylonJS                     Babylon.js   \n",
       "4                ssloy                   tinyrenderer   \n",
       "5              FreeCAD                        FreeCAD   \n",
       "6              lettier  3d-game-shaders-for-beginners   \n",
       "7             aframevr                         aframe   \n",
       "8              blender                        blender   \n",
       "9             CesiumGS                         cesium   \n",
       "10            MonoGame                       MonoGame   \n",
       "11             isl-org                         Open3D   \n",
       "12              mapbox                   mapbox-gl-js   \n",
       "13                4ian                       GDevelop   \n",
       "14           metafizzy                           zdog   \n",
       "15         timzhang642            3D-Machine-Learning   \n",
       "16  nerfstudio-project                     nerfstudio   \n",
       "17               cocos                   cocos-engine   \n",
       "18         FyroxEngine                          Fyrox   \n",
       "19             domlysz                     BlenderGIS   \n",
       "\n",
       "                                             repo_url   stars  \n",
       "0                  https://github.com/mrdoob/three.js  102000  \n",
       "1         https://github.com/pmndrs/react-three-fiber   27400  \n",
       "2                    https://github.com/libgdx/libgdx   23300  \n",
       "3             https://github.com/BabylonJS/Babylon.js   23200  \n",
       "4               https://github.com/ssloy/tinyrenderer   20500  \n",
       "5                  https://github.com/FreeCAD/FreeCAD   19600  \n",
       "6   https://github.com/lettier/3d-game-shaders-for...   17900  \n",
       "7                  https://github.com/aframevr/aframe   16700  \n",
       "8                  https://github.com/blender/blender   13200  \n",
       "9                  https://github.com/CesiumGS/cesium   12900  \n",
       "10               https://github.com/MonoGame/MonoGame   11500  \n",
       "11                  https://github.com/isl-org/Open3D   11400  \n",
       "12             https://github.com/mapbox/mapbox-gl-js   11200  \n",
       "13                   https://github.com/4ian/GDevelop   11000  \n",
       "14                  https://github.com/metafizzy/zdog   10400  \n",
       "15  https://github.com/timzhang642/3D-Machine-Lear...    9800  \n",
       "16   https://github.com/nerfstudio-project/nerfstudio    9500  \n",
       "17              https://github.com/cocos/cocos-engine    8200  \n",
       "18               https://github.com/FyroxEngine/Fyrox    7700  \n",
       "19              https://github.com/domlysz/BlenderGIS    7700  "
      ]
     },
     "execution_count": 62,
     "metadata": {},
     "output_type": "execute_result"
    }
   ],
   "source": [
    "topic_repo_df"
   ]
  },
  {
   "cell_type": "code",
   "execution_count": 63,
   "id": "1f7c0d42-3742-473a-9010-519f5af727c9",
   "metadata": {},
   "outputs": [],
   "source": [
    "import os\n",
    "def get_topic_page(topic_url):\n",
    "    #download the page\n",
    "    response=requests.get(topic_url)\n",
    "    #check successful response\n",
    "    if response.status_code != 200:\n",
    "        raise Exception('Failed to load page{}'.format(topic_url))\n",
    "    # parse using BeautifulSoup\n",
    "    topic_doc=BeautifulSoup(response.text,\"html.parser\")\n",
    "    return topic_doc\n",
    "\n",
    "def get_repo_info(h3_tag,star_tag):  # gives all information about repository\n",
    "    a_tag=h3_tag.find_all('a')\n",
    "    user_name=a_tag[0].text.strip()\n",
    "    repo_name=a_tag[1].text.strip()\n",
    "    repo_url=base_url+a_tag[1]['href']\n",
    "    stars=parse_star_strip(star_tag.text.strip())\n",
    "    return user_name,repo_name,repo_url,stars\n",
    "\n",
    "def get_topic_repos(topic_doc):\n",
    "    #get the h3 tag containing repo title,repo url,username\n",
    "    h3_selection_class=\"f3 color-fg-muted text-normal lh-condensed\"\n",
    "    repo_tag=topic_doc.find_all('h3',{'class':h3_selection_class})\n",
    "    # get star tags\n",
    "    star_tags=topic_doc.find_all('span',{'class':\"Counter js-social-count\"})\n",
    "    topic_repo_dict={\n",
    "    \"user_name\":[],\n",
    "    \"repo_name\":[],\n",
    "    \"repo_url\":[],\n",
    "    \"stars\":[]\n",
    "    }\n",
    "    # get repo info\n",
    "    for i in range(len(repo_tag)):\n",
    "      repo_info = get_repo_info(repo_tag[i],star_tags[i])\n",
    "      topic_repo_dict[\"user_name\"].append(repo_info[0])\n",
    "      topic_repo_dict[\"repo_name\"].append(repo_info[1])\n",
    "      topic_repo_dict[\"repo_url\"].append(repo_info[2])\n",
    "      topic_repo_dict[\"stars\"].append(repo_info[3])\n",
    "    return pd.DataFrame(topic_repo_dict)\n",
    "\n",
    "def scrape_topic(topic_url,topic_name):\n",
    "    fname=topic_name+'.csv'\n",
    "    if os.path.exists(fname):\n",
    "        print(\"The file {} already exists.Skipping...\".format(fname))\n",
    "        return\n",
    "    topic_df=get_topic_repos(get_topic_page(topic_url))\n",
    "    topic_df.to_csv(fname,index=None)\n",
    "                             \n",
    "    "
   ]
  },
  {
   "cell_type": "code",
   "execution_count": 64,
   "id": "f44283be-41e3-4fc6-9d71-83bf2337ed1f",
   "metadata": {},
   "outputs": [],
   "source": [
    "get_topic_repos(get_topic_page(topic_urls[6])).to_csv(\"ansible.csv\",index=None)"
   ]
  },
  {
   "cell_type": "code",
   "execution_count": 65,
   "id": "b56e0e21-2639-4339-a8af-7597ac7b5a5b",
   "metadata": {},
   "outputs": [
    {
     "data": {
      "text/plain": [
       "'https://github.com/topics/ansible'"
      ]
     },
     "execution_count": 65,
     "metadata": {},
     "output_type": "execute_result"
    }
   ],
   "source": [
    "topic_urls[6]"
   ]
  },
  {
   "cell_type": "code",
   "execution_count": 66,
   "id": "95ecc8c2-8603-427a-86f1-3e29986fcff7",
   "metadata": {},
   "outputs": [],
   "source": [
    "# write a single function to :\n",
    "#1. get the list of topics from topics page\n",
    "#2. get the list of top repos from individual topic page\n",
    "#3. for each topic create the csv of the top repos for topics\n"
   ]
  },
  {
   "cell_type": "code",
   "execution_count": 67,
   "id": "a87fdde2-36bb-43f1-b0f1-f1814522afa4",
   "metadata": {},
   "outputs": [],
   "source": [
    "def get_topic_titles(soup):\n",
    "    topic_title_tags=soup.find_all('p',{\"class\":\"f3 lh-condensed mb-0 mt-1 Link--primary\"})\n",
    "    topic_titles=[]\n",
    "    \n",
    "    for tags in topic_title_tags:\n",
    "        topic_titles.append(tags.text)\n",
    "    return topic_titles\n",
    "\n",
    "def get_topic_descs(soup):\n",
    "     discription_class={\"class\":\"f5 color-fg-muted mb-0 mt-1\"}\n",
    "     topic_discription_class=soup.find_all('p',discription_class)\n",
    "     topic_description=[]\n",
    "     for tag in topic_discription_class:\n",
    "         topic_description.append(tag.text.strip())\n",
    "     return topic_description\n",
    "\n",
    "def get_topic_urls(soup):\n",
    "    topic_link_tags = soup.find_all('a',{'class': \"no-underline flex-grow-0\"})\n",
    "    topic_urls=[]\n",
    "    base_url=\"https://github.com\"\n",
    "    for tag in topic_link_tags:\n",
    "        topic_urls.append(base_url + tag[\"href\"])\n",
    "    return topic_urls\n",
    "def scrape_topics():\n",
    "    topics_url=(\"https://github.com/topics\")\n",
    "    response=requests.get(topics_url)\n",
    "    if response.status_code != 200:\n",
    "        raise Exception('Failed to load page{}'.format(topic_url))\n",
    "    topics_dict={\n",
    "        'title':get_topic_titles(soup),\n",
    "        'description':get_topic_descs(soup),\n",
    "        'url':get_topic_urls(soup)\n",
    "    }\n",
    "    return pd.DataFrame(topics_dict)\n",
    "   \n",
    "def scrape_topics_repos():\n",
    "    print(\"Sraping list of topics:\")\n",
    "    topics_df=scrape_topics()\n",
    "    for index,row in topics_df.iterrows():\n",
    "        print('scraping top repositories for\"{}\"'.format(row['title']))\n",
    "        scrape_topic(row['url'],row['title'])\n",
    "    \n",
    "\n",
    "    \n",
    "    \n",
    "   \n",
    "    "
   ]
  },
  {
   "cell_type": "code",
   "execution_count": 68,
   "id": "dd8327f2-3a12-4b49-8df3-011ad4c0539e",
   "metadata": {},
   "outputs": [
    {
     "data": {
      "text/html": [
       "<div>\n",
       "<style scoped>\n",
       "    .dataframe tbody tr th:only-of-type {\n",
       "        vertical-align: middle;\n",
       "    }\n",
       "\n",
       "    .dataframe tbody tr th {\n",
       "        vertical-align: top;\n",
       "    }\n",
       "\n",
       "    .dataframe thead th {\n",
       "        text-align: right;\n",
       "    }\n",
       "</style>\n",
       "<table border=\"1\" class=\"dataframe\">\n",
       "  <thead>\n",
       "    <tr style=\"text-align: right;\">\n",
       "      <th></th>\n",
       "      <th>title</th>\n",
       "      <th>description</th>\n",
       "      <th>url</th>\n",
       "    </tr>\n",
       "  </thead>\n",
       "  <tbody>\n",
       "    <tr>\n",
       "      <th>0</th>\n",
       "      <td>3D</td>\n",
       "      <td>3D refers to the use of three-dimensional grap...</td>\n",
       "      <td>https://github.com/topics/3d</td>\n",
       "    </tr>\n",
       "    <tr>\n",
       "      <th>1</th>\n",
       "      <td>Ajax</td>\n",
       "      <td>Ajax is a technique for creating interactive w...</td>\n",
       "      <td>https://github.com/topics/ajax</td>\n",
       "    </tr>\n",
       "    <tr>\n",
       "      <th>2</th>\n",
       "      <td>Algorithm</td>\n",
       "      <td>Algorithms are self-contained sequences that c...</td>\n",
       "      <td>https://github.com/topics/algorithm</td>\n",
       "    </tr>\n",
       "    <tr>\n",
       "      <th>3</th>\n",
       "      <td>Amp</td>\n",
       "      <td>Amp is a non-blocking concurrency library for ...</td>\n",
       "      <td>https://github.com/topics/amphp</td>\n",
       "    </tr>\n",
       "    <tr>\n",
       "      <th>4</th>\n",
       "      <td>Android</td>\n",
       "      <td>Android is an operating system built by Google...</td>\n",
       "      <td>https://github.com/topics/android</td>\n",
       "    </tr>\n",
       "    <tr>\n",
       "      <th>5</th>\n",
       "      <td>Angular</td>\n",
       "      <td>Angular is an open source web application plat...</td>\n",
       "      <td>https://github.com/topics/angular</td>\n",
       "    </tr>\n",
       "    <tr>\n",
       "      <th>6</th>\n",
       "      <td>Ansible</td>\n",
       "      <td>Ansible is a simple and powerful automation en...</td>\n",
       "      <td>https://github.com/topics/ansible</td>\n",
       "    </tr>\n",
       "    <tr>\n",
       "      <th>7</th>\n",
       "      <td>API</td>\n",
       "      <td>An API (Application Programming Interface) is ...</td>\n",
       "      <td>https://github.com/topics/api</td>\n",
       "    </tr>\n",
       "    <tr>\n",
       "      <th>8</th>\n",
       "      <td>Arduino</td>\n",
       "      <td>Arduino is an open source platform for buildin...</td>\n",
       "      <td>https://github.com/topics/arduino</td>\n",
       "    </tr>\n",
       "    <tr>\n",
       "      <th>9</th>\n",
       "      <td>ASP.NET</td>\n",
       "      <td>ASP.NET is a web framework for building modern...</td>\n",
       "      <td>https://github.com/topics/aspnet</td>\n",
       "    </tr>\n",
       "    <tr>\n",
       "      <th>10</th>\n",
       "      <td>Awesome Lists</td>\n",
       "      <td>An awesome list is a list of awesome things cu...</td>\n",
       "      <td>https://github.com/topics/awesome</td>\n",
       "    </tr>\n",
       "    <tr>\n",
       "      <th>11</th>\n",
       "      <td>Amazon Web Services</td>\n",
       "      <td>Amazon Web Services provides on-demand cloud c...</td>\n",
       "      <td>https://github.com/topics/aws</td>\n",
       "    </tr>\n",
       "    <tr>\n",
       "      <th>12</th>\n",
       "      <td>Azure</td>\n",
       "      <td>Azure is a cloud computing service created by ...</td>\n",
       "      <td>https://github.com/topics/azure</td>\n",
       "    </tr>\n",
       "    <tr>\n",
       "      <th>13</th>\n",
       "      <td>Babel</td>\n",
       "      <td>Babel is a compiler for writing next generatio...</td>\n",
       "      <td>https://github.com/topics/babel</td>\n",
       "    </tr>\n",
       "    <tr>\n",
       "      <th>14</th>\n",
       "      <td>Bash</td>\n",
       "      <td>Bash is a shell and command language interpret...</td>\n",
       "      <td>https://github.com/topics/bash</td>\n",
       "    </tr>\n",
       "    <tr>\n",
       "      <th>15</th>\n",
       "      <td>Bitcoin</td>\n",
       "      <td>Bitcoin is a cryptocurrency developed by Satos...</td>\n",
       "      <td>https://github.com/topics/bitcoin</td>\n",
       "    </tr>\n",
       "    <tr>\n",
       "      <th>16</th>\n",
       "      <td>Bootstrap</td>\n",
       "      <td>Bootstrap is an HTML, CSS, and JavaScript fram...</td>\n",
       "      <td>https://github.com/topics/bootstrap</td>\n",
       "    </tr>\n",
       "    <tr>\n",
       "      <th>17</th>\n",
       "      <td>Bot</td>\n",
       "      <td>A bot is an application that runs automated ta...</td>\n",
       "      <td>https://github.com/topics/bot</td>\n",
       "    </tr>\n",
       "    <tr>\n",
       "      <th>18</th>\n",
       "      <td>C</td>\n",
       "      <td>C is a general purpose programming language th...</td>\n",
       "      <td>https://github.com/topics/c</td>\n",
       "    </tr>\n",
       "    <tr>\n",
       "      <th>19</th>\n",
       "      <td>Chrome</td>\n",
       "      <td>Chrome is a web browser from the tech company ...</td>\n",
       "      <td>https://github.com/topics/chrome</td>\n",
       "    </tr>\n",
       "    <tr>\n",
       "      <th>20</th>\n",
       "      <td>Chrome extension</td>\n",
       "      <td>Chrome extensions enable users to customize th...</td>\n",
       "      <td>https://github.com/topics/chrome-extension</td>\n",
       "    </tr>\n",
       "    <tr>\n",
       "      <th>21</th>\n",
       "      <td>Command-line interface</td>\n",
       "      <td>A CLI, or command-line interface, is a console...</td>\n",
       "      <td>https://github.com/topics/cli</td>\n",
       "    </tr>\n",
       "    <tr>\n",
       "      <th>22</th>\n",
       "      <td>Clojure</td>\n",
       "      <td>Clojure is a dynamic, general-purpose programm...</td>\n",
       "      <td>https://github.com/topics/clojure</td>\n",
       "    </tr>\n",
       "    <tr>\n",
       "      <th>23</th>\n",
       "      <td>Code quality</td>\n",
       "      <td>Automate your code review with style, quality,...</td>\n",
       "      <td>https://github.com/topics/code-quality</td>\n",
       "    </tr>\n",
       "    <tr>\n",
       "      <th>24</th>\n",
       "      <td>Code review</td>\n",
       "      <td>Ensure your code meets quality standards and s...</td>\n",
       "      <td>https://github.com/topics/code-review</td>\n",
       "    </tr>\n",
       "    <tr>\n",
       "      <th>25</th>\n",
       "      <td>Compiler</td>\n",
       "      <td>Compilers are software that translate higher-l...</td>\n",
       "      <td>https://github.com/topics/compiler</td>\n",
       "    </tr>\n",
       "    <tr>\n",
       "      <th>26</th>\n",
       "      <td>Continuous integration</td>\n",
       "      <td>Automatically build and test your code as you ...</td>\n",
       "      <td>https://github.com/topics/continuous-integration</td>\n",
       "    </tr>\n",
       "    <tr>\n",
       "      <th>27</th>\n",
       "      <td>C++</td>\n",
       "      <td>C++ is a general purpose and object-oriented p...</td>\n",
       "      <td>https://github.com/topics/cpp</td>\n",
       "    </tr>\n",
       "    <tr>\n",
       "      <th>28</th>\n",
       "      <td>Cryptocurrency</td>\n",
       "      <td>A cryptocurrency is a digital currency that us...</td>\n",
       "      <td>https://github.com/topics/cryptocurrency</td>\n",
       "    </tr>\n",
       "    <tr>\n",
       "      <th>29</th>\n",
       "      <td>Crystal</td>\n",
       "      <td>Crystal is a self-hosted, general purpose prog...</td>\n",
       "      <td>https://github.com/topics/crystal</td>\n",
       "    </tr>\n",
       "  </tbody>\n",
       "</table>\n",
       "</div>"
      ],
      "text/plain": [
       "                     title                                        description  \\\n",
       "0                       3D  3D refers to the use of three-dimensional grap...   \n",
       "1                     Ajax  Ajax is a technique for creating interactive w...   \n",
       "2                Algorithm  Algorithms are self-contained sequences that c...   \n",
       "3                      Amp  Amp is a non-blocking concurrency library for ...   \n",
       "4                  Android  Android is an operating system built by Google...   \n",
       "5                  Angular  Angular is an open source web application plat...   \n",
       "6                  Ansible  Ansible is a simple and powerful automation en...   \n",
       "7                      API  An API (Application Programming Interface) is ...   \n",
       "8                  Arduino  Arduino is an open source platform for buildin...   \n",
       "9                  ASP.NET  ASP.NET is a web framework for building modern...   \n",
       "10           Awesome Lists  An awesome list is a list of awesome things cu...   \n",
       "11     Amazon Web Services  Amazon Web Services provides on-demand cloud c...   \n",
       "12                   Azure  Azure is a cloud computing service created by ...   \n",
       "13                   Babel  Babel is a compiler for writing next generatio...   \n",
       "14                    Bash  Bash is a shell and command language interpret...   \n",
       "15                 Bitcoin  Bitcoin is a cryptocurrency developed by Satos...   \n",
       "16               Bootstrap  Bootstrap is an HTML, CSS, and JavaScript fram...   \n",
       "17                     Bot  A bot is an application that runs automated ta...   \n",
       "18                       C  C is a general purpose programming language th...   \n",
       "19                  Chrome  Chrome is a web browser from the tech company ...   \n",
       "20        Chrome extension  Chrome extensions enable users to customize th...   \n",
       "21  Command-line interface  A CLI, or command-line interface, is a console...   \n",
       "22                 Clojure  Clojure is a dynamic, general-purpose programm...   \n",
       "23            Code quality  Automate your code review with style, quality,...   \n",
       "24             Code review  Ensure your code meets quality standards and s...   \n",
       "25                Compiler  Compilers are software that translate higher-l...   \n",
       "26  Continuous integration  Automatically build and test your code as you ...   \n",
       "27                     C++  C++ is a general purpose and object-oriented p...   \n",
       "28          Cryptocurrency  A cryptocurrency is a digital currency that us...   \n",
       "29                 Crystal  Crystal is a self-hosted, general purpose prog...   \n",
       "\n",
       "                                                 url  \n",
       "0                       https://github.com/topics/3d  \n",
       "1                     https://github.com/topics/ajax  \n",
       "2                https://github.com/topics/algorithm  \n",
       "3                    https://github.com/topics/amphp  \n",
       "4                  https://github.com/topics/android  \n",
       "5                  https://github.com/topics/angular  \n",
       "6                  https://github.com/topics/ansible  \n",
       "7                      https://github.com/topics/api  \n",
       "8                  https://github.com/topics/arduino  \n",
       "9                   https://github.com/topics/aspnet  \n",
       "10                 https://github.com/topics/awesome  \n",
       "11                     https://github.com/topics/aws  \n",
       "12                   https://github.com/topics/azure  \n",
       "13                   https://github.com/topics/babel  \n",
       "14                    https://github.com/topics/bash  \n",
       "15                 https://github.com/topics/bitcoin  \n",
       "16               https://github.com/topics/bootstrap  \n",
       "17                     https://github.com/topics/bot  \n",
       "18                       https://github.com/topics/c  \n",
       "19                  https://github.com/topics/chrome  \n",
       "20        https://github.com/topics/chrome-extension  \n",
       "21                     https://github.com/topics/cli  \n",
       "22                 https://github.com/topics/clojure  \n",
       "23            https://github.com/topics/code-quality  \n",
       "24             https://github.com/topics/code-review  \n",
       "25                https://github.com/topics/compiler  \n",
       "26  https://github.com/topics/continuous-integration  \n",
       "27                     https://github.com/topics/cpp  \n",
       "28          https://github.com/topics/cryptocurrency  \n",
       "29                 https://github.com/topics/crystal  "
      ]
     },
     "execution_count": 68,
     "metadata": {},
     "output_type": "execute_result"
    }
   ],
   "source": [
    "scrape_topics()"
   ]
  },
  {
   "cell_type": "code",
   "execution_count": 69,
   "id": "c1de612f-46ec-48a2-b8f2-21df0e279bfd",
   "metadata": {},
   "outputs": [
    {
     "name": "stdout",
     "output_type": "stream",
     "text": [
      "Sraping list of topics:\n",
      "scraping top repositories for\"3D\"\n",
      "scraping top repositories for\"Ajax\"\n",
      "scraping top repositories for\"Algorithm\"\n",
      "scraping top repositories for\"Amp\"\n",
      "scraping top repositories for\"Android\"\n",
      "scraping top repositories for\"Angular\"\n",
      "scraping top repositories for\"Ansible\"\n",
      "The file Ansible.csv already exists.Skipping...\n",
      "scraping top repositories for\"API\"\n",
      "scraping top repositories for\"Arduino\"\n",
      "scraping top repositories for\"ASP.NET\"\n",
      "scraping top repositories for\"Awesome Lists\"\n",
      "scraping top repositories for\"Amazon Web Services\"\n",
      "scraping top repositories for\"Azure\"\n",
      "scraping top repositories for\"Babel\"\n",
      "scraping top repositories for\"Bash\"\n",
      "scraping top repositories for\"Bitcoin\"\n",
      "scraping top repositories for\"Bootstrap\"\n",
      "scraping top repositories for\"Bot\"\n",
      "scraping top repositories for\"C\"\n",
      "scraping top repositories for\"Chrome\"\n",
      "scraping top repositories for\"Chrome extension\"\n",
      "scraping top repositories for\"Command-line interface\"\n",
      "scraping top repositories for\"Clojure\"\n",
      "scraping top repositories for\"Code quality\"\n",
      "scraping top repositories for\"Code review\"\n",
      "scraping top repositories for\"Compiler\"\n",
      "scraping top repositories for\"Continuous integration\"\n",
      "scraping top repositories for\"C++\"\n",
      "scraping top repositories for\"Cryptocurrency\"\n",
      "scraping top repositories for\"Crystal\"\n"
     ]
    }
   ],
   "source": [
    "scrape_topics_repos()"
   ]
  },
  {
   "cell_type": "markdown",
   "id": "d8fc2af6-ea3f-4190-979d-f478f52d1759",
   "metadata": {},
   "source": [
    "Top repositories according to stars"
   ]
  },
  {
   "cell_type": "code",
   "execution_count": 72,
   "id": "30e5367f",
   "metadata": {},
   "outputs": [],
   "source": [
    "import matplotlib.pyplot as plt"
   ]
  },
  {
   "cell_type": "code",
   "execution_count": 83,
   "id": "96a13aa0",
   "metadata": {},
   "outputs": [
    {
     "data": {
      "image/png": "[encoded data removed]",
      "text/plain": [
       "<Figure size 1600x700 with 2 Axes>"
      ]
     },
     "metadata": {},
     "output_type": "display_data"
    }
   ],
   "source": [
    "plt.figure(figsize=(16, 7))\n",
    "\n",
    "# Bar Chart with counts on top, increased bar width, and vertical text\n",
    "plt.subplot(1, 2, 1)\n",
    "bars = plt.bar(topic_repo_df['repo_name'], topic_repo_df['stars'], color='skyblue', width=0.8)\n",
    "plt.xticks(rotation=90)\n",
    "plt.xlabel('Repository Name')\n",
    "plt.ylabel('Stars')\n",
    "plt.title('Stars for Each Repository')\n",
    "\n",
    "# Adding vertical star count labels on top of each bar\n",
    "for bar in bars:\n",
    "    yval = bar.get_height()\n",
    "    plt.text(bar.get_x() + bar.get_width() / 2, yval, int(yval), ha='center', va='bottom', rotation=90)\n",
    "\n",
    "# Pie Chart without percentages in the chart, using legend instead\n",
    "plt.subplot(1, 2, 2)\n",
    "plt.pie(topic_repo_df['stars'], labels=None, startangle=140)\n",
    "plt.title('Share of Stars by Repository')\n",
    "\n",
    "# Calculate percentage for each repository\n",
    "total_stars = topic_repo_df['stars'].sum()\n",
    "legend_labels = [\n",
    "    f\"{name}: {stars / total_stars * 100:.1f}%\" \n",
    "    for name, stars in zip(topic_repo_df['repo_name'], topic_repo_df['stars'])\n",
    "]\n",
    "\n",
    "# Adding a legend with repository names and their respective percentages\n",
    "plt.legend(legend_labels, title=\"Repositories\", loc=\"center left\", bbox_to_anchor=(1, 0, 0.5, 1), fontsize='small')\n",
    "\n",
    "# Display the plots with tight layout\n",
    "plt.tight_layout()\n",
    "plt.show()"
   ]
  },
  {
   "cell_type": "code",
   "execution_count": null,
   "id": "6c55fdcf",
   "metadata": {},
   "outputs": [],
   "source": []
  }
 ],
 "metadata": {
  "kernelspec": {
   "display_name": "Python 3",
   "language": "python",
   "name": "python3"
  },
  "language_info": {
   "codemirror_mode": {
    "name": "ipython",
    "version": 3
   },
   "file_extension": ".py",
   "mimetype": "text/x-python",
   "name": "python",
   "nbconvert_exporter": "python",
   "pygments_lexer": "ipython3",
   "version": "3.12.6"
  }
 },
 "nbformat": 4,
 "nbformat_minor": 5
}
